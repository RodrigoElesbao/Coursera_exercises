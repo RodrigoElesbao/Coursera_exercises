{
 "cells": [
  {
   "cell_type": "markdown",
   "metadata": {},
   "source": [
    "# My Jupyter Notebook on IBM Watson Studio"
   ]
  },
  {
   "cell_type": "markdown",
   "metadata": {},
   "source": [
    "**Rodrigo Elesbão**\n",
    "\n",
    "(a future) Data Scientist"
   ]
  },
  {
   "cell_type": "markdown",
   "metadata": {},
   "source": [
    "*As society has been becoming a place with ever more connected, ever faster, and ever more intense relationships, a huge amount of information about it is generated, which demands analysis and criteria to be understood.*\n",
    "\n",
    "*Data Scientists can assemble tools and skills that make it possible. I want to be one of them.*"
   ]
  },
  {
   "cell_type": "markdown",
   "metadata": {},
   "source": [
    "### The following code returns a smiling emoji to users who are happy when learning"
   ]
  },
  {
   "cell_type": "code",
   "execution_count": 1,
   "metadata": {},
   "outputs": [
    {
     "data": {
      "text/plain": [
       "'😀'"
      ]
     },
     "execution_count": 1,
     "metadata": {},
     "output_type": "execute_result"
    }
   ],
   "source": [
    "\n",
    "def learning_makes_you_(____):    \n",
    "    if ____ == 'happy':\n",
    "        return '\\U0001F600'\n",
    "\n",
    "learning_makes_you_('happy')\n"
   ]
  },
  {
   "cell_type": "markdown",
   "metadata": {
    "tags": []
   },
   "source": [
    "### [Tools for Data Science - IBM](https://www.coursera.org/learn/open-source-tools-for-data-science 'go to page on Coursera →')\n",
    "\n",
    "---\n",
    "\n",
    "1. **Data Scientists Toolkit**\n",
    "  - *Languages of Data Science*\n",
    "  - *Data Science Tools*\n",
    "  - *Packages, APIS, Data Sets and Models*\n",
    "2. **Open Source Tools**\n",
    "  - *Jupyter Notebook and JupyterLab*\n",
    "  - *RStudio IDE*\n",
    "  - *GitHub*\n",
    "3. **IBM Tools for Data Science**\n",
    "  - *Watson Studio*\n",
    "  - *Other IBM Tools*\n",
    "4. **Final Assignment**\n",
    "  - *Final Exam* ←\n",
    "\n",
    "\n",
    "\n",
    "\n",
    "\n",
    "\n",
    "\n",
    "\n",
    "\n",
    "\n"
   ]
  },
  {
   "cell_type": "code",
   "execution_count": null,
   "metadata": {},
   "outputs": [],
   "source": []
  }
 ],
 "metadata": {
  "kernelspec": {
   "display_name": "Python 3 (ipykernel)",
   "language": "python",
   "name": "python3"
  },
  "language_info": {
   "codemirror_mode": {
    "name": "ipython",
    "version": 3
   },
   "file_extension": ".py",
   "mimetype": "text/x-python",
   "name": "python",
   "nbconvert_exporter": "python",
   "pygments_lexer": "ipython3",
   "version": "3.9.7"
  }
 },
 "nbformat": 4,
 "nbformat_minor": 4
}
